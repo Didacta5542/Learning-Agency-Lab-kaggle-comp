{
 "cells": [
  {
   "cell_type": "code",
   "execution_count": 1,
   "id": "d5657e93",
   "metadata": {
    "_cell_guid": "b1076dfc-b9ad-4769-8c92-a6c4dae69d19",
    "_uuid": "8f2839f25d086af736a60e9eeb907d3b93b6e0e5",
    "execution": {
     "iopub.execute_input": "2024-06-06T07:16:37.609056Z",
     "iopub.status.busy": "2024-06-06T07:16:37.608571Z",
     "iopub.status.idle": "2024-06-06T07:16:40.727890Z",
     "shell.execute_reply": "2024-06-06T07:16:40.726675Z"
    },
    "papermill": {
     "duration": 3.132029,
     "end_time": "2024-06-06T07:16:40.731355",
     "exception": false,
     "start_time": "2024-06-06T07:16:37.599326",
     "status": "completed"
    },
    "tags": []
   },
   "outputs": [],
   "source": [
    "import numpy as np \n",
    "import pandas as pd\n",
    "import seaborn as sns\n",
    "import matplotlib.pyplot as plt\n",
    "import os\n",
    "import re\n",
    "\n",
    "from sklearn.feature_extraction.text import TfidfVectorizer\n",
    "from sklearn.model_selection import train_test_split\n",
    "from sklearn.linear_model import LogisticRegression\n",
    "\n",
    "from sklearn.metrics import cohen_kappa_score"
   ]
  },
  {
   "cell_type": "code",
   "execution_count": 2,
   "id": "394c0c28",
   "metadata": {
    "execution": {
     "iopub.execute_input": "2024-06-06T07:16:40.754479Z",
     "iopub.status.busy": "2024-06-06T07:16:40.753843Z",
     "iopub.status.idle": "2024-06-06T07:16:41.614880Z",
     "shell.execute_reply": "2024-06-06T07:16:41.613496Z"
    },
    "papermill": {
     "duration": 0.873413,
     "end_time": "2024-06-06T07:16:41.617359",
     "exception": false,
     "start_time": "2024-06-06T07:16:40.743946",
     "status": "completed"
    },
    "tags": []
   },
   "outputs": [
    {
     "name": "stdout",
     "output_type": "stream",
     "text": [
      "sample_submission.csv\n",
      "train.csv\n",
      "test.csv\n"
     ]
    }
   ],
   "source": [
    "files = []\n",
    "for dirname, _, filenames in os.walk('/kaggle/input/learning-agency-lab-automated-essay-scoring-2'):\n",
    "    for filename in filenames:\n",
    "        print(filename)\n",
    "        files.append(pd.read_csv(os.path.join(dirname,filename)))"
   ]
  },
  {
   "cell_type": "code",
   "execution_count": 3,
   "id": "c6ead3ef",
   "metadata": {
    "execution": {
     "iopub.execute_input": "2024-06-06T07:16:41.632618Z",
     "iopub.status.busy": "2024-06-06T07:16:41.631614Z",
     "iopub.status.idle": "2024-06-06T07:16:41.652373Z",
     "shell.execute_reply": "2024-06-06T07:16:41.651273Z"
    },
    "papermill": {
     "duration": 0.030714,
     "end_time": "2024-06-06T07:16:41.654584",
     "exception": false,
     "start_time": "2024-06-06T07:16:41.623870",
     "status": "completed"
    },
    "tags": []
   },
   "outputs": [
    {
     "data": {
      "text/html": [
       "<div>\n",
       "<style scoped>\n",
       "    .dataframe tbody tr th:only-of-type {\n",
       "        vertical-align: middle;\n",
       "    }\n",
       "\n",
       "    .dataframe tbody tr th {\n",
       "        vertical-align: top;\n",
       "    }\n",
       "\n",
       "    .dataframe thead th {\n",
       "        text-align: right;\n",
       "    }\n",
       "</style>\n",
       "<table border=\"1\" class=\"dataframe\">\n",
       "  <thead>\n",
       "    <tr style=\"text-align: right;\">\n",
       "      <th></th>\n",
       "      <th>essay_id</th>\n",
       "      <th>score</th>\n",
       "    </tr>\n",
       "  </thead>\n",
       "  <tbody>\n",
       "    <tr>\n",
       "      <th>0</th>\n",
       "      <td>000d118</td>\n",
       "      <td>3</td>\n",
       "    </tr>\n",
       "    <tr>\n",
       "      <th>1</th>\n",
       "      <td>000fe60</td>\n",
       "      <td>3</td>\n",
       "    </tr>\n",
       "    <tr>\n",
       "      <th>2</th>\n",
       "      <td>001ab80</td>\n",
       "      <td>4</td>\n",
       "    </tr>\n",
       "  </tbody>\n",
       "</table>\n",
       "</div>"
      ],
      "text/plain": [
       "  essay_id  score\n",
       "0  000d118      3\n",
       "1  000fe60      3\n",
       "2  001ab80      4"
      ]
     },
     "execution_count": 3,
     "metadata": {},
     "output_type": "execute_result"
    }
   ],
   "source": [
    "subb = files[0]\n",
    "subb.head()"
   ]
  },
  {
   "cell_type": "code",
   "execution_count": 4,
   "id": "70a708f7",
   "metadata": {
    "execution": {
     "iopub.execute_input": "2024-06-06T07:16:41.669007Z",
     "iopub.status.busy": "2024-06-06T07:16:41.668596Z",
     "iopub.status.idle": "2024-06-06T07:16:41.679704Z",
     "shell.execute_reply": "2024-06-06T07:16:41.678234Z"
    },
    "papermill": {
     "duration": 0.021073,
     "end_time": "2024-06-06T07:16:41.682142",
     "exception": false,
     "start_time": "2024-06-06T07:16:41.661069",
     "status": "completed"
    },
    "tags": []
   },
   "outputs": [
    {
     "data": {
      "text/html": [
       "<div>\n",
       "<style scoped>\n",
       "    .dataframe tbody tr th:only-of-type {\n",
       "        vertical-align: middle;\n",
       "    }\n",
       "\n",
       "    .dataframe tbody tr th {\n",
       "        vertical-align: top;\n",
       "    }\n",
       "\n",
       "    .dataframe thead th {\n",
       "        text-align: right;\n",
       "    }\n",
       "</style>\n",
       "<table border=\"1\" class=\"dataframe\">\n",
       "  <thead>\n",
       "    <tr style=\"text-align: right;\">\n",
       "      <th></th>\n",
       "      <th>essay_id</th>\n",
       "      <th>full_text</th>\n",
       "      <th>score</th>\n",
       "    </tr>\n",
       "  </thead>\n",
       "  <tbody>\n",
       "    <tr>\n",
       "      <th>0</th>\n",
       "      <td>000d118</td>\n",
       "      <td>Many people have car where they live. The thin...</td>\n",
       "      <td>3</td>\n",
       "    </tr>\n",
       "    <tr>\n",
       "      <th>1</th>\n",
       "      <td>000fe60</td>\n",
       "      <td>I am a scientist at NASA that is discussing th...</td>\n",
       "      <td>3</td>\n",
       "    </tr>\n",
       "    <tr>\n",
       "      <th>2</th>\n",
       "      <td>001ab80</td>\n",
       "      <td>People always wish they had the same technolog...</td>\n",
       "      <td>4</td>\n",
       "    </tr>\n",
       "    <tr>\n",
       "      <th>3</th>\n",
       "      <td>001bdc0</td>\n",
       "      <td>We all heard about Venus, the planet without a...</td>\n",
       "      <td>4</td>\n",
       "    </tr>\n",
       "    <tr>\n",
       "      <th>4</th>\n",
       "      <td>002ba53</td>\n",
       "      <td>Dear, State Senator\\n\\nThis is a letter to arg...</td>\n",
       "      <td>3</td>\n",
       "    </tr>\n",
       "  </tbody>\n",
       "</table>\n",
       "</div>"
      ],
      "text/plain": [
       "  essay_id                                          full_text  score\n",
       "0  000d118  Many people have car where they live. The thin...      3\n",
       "1  000fe60  I am a scientist at NASA that is discussing th...      3\n",
       "2  001ab80  People always wish they had the same technolog...      4\n",
       "3  001bdc0  We all heard about Venus, the planet without a...      4\n",
       "4  002ba53  Dear, State Senator\\n\\nThis is a letter to arg...      3"
      ]
     },
     "execution_count": 4,
     "metadata": {},
     "output_type": "execute_result"
    }
   ],
   "source": [
    "df_train = files[1]\n",
    "df_train.head()"
   ]
  },
  {
   "cell_type": "code",
   "execution_count": 5,
   "id": "b336f5f0",
   "metadata": {
    "execution": {
     "iopub.execute_input": "2024-06-06T07:16:41.697730Z",
     "iopub.status.busy": "2024-06-06T07:16:41.697276Z",
     "iopub.status.idle": "2024-06-06T07:16:41.704068Z",
     "shell.execute_reply": "2024-06-06T07:16:41.703055Z"
    },
    "papermill": {
     "duration": 0.017745,
     "end_time": "2024-06-06T07:16:41.706481",
     "exception": false,
     "start_time": "2024-06-06T07:16:41.688736",
     "status": "completed"
    },
    "tags": []
   },
   "outputs": [
    {
     "data": {
      "text/plain": [
       "(17307, 3)"
      ]
     },
     "execution_count": 5,
     "metadata": {},
     "output_type": "execute_result"
    }
   ],
   "source": [
    "df_train.shape"
   ]
  },
  {
   "cell_type": "code",
   "execution_count": 6,
   "id": "6cf2a161",
   "metadata": {
    "execution": {
     "iopub.execute_input": "2024-06-06T07:16:41.721899Z",
     "iopub.status.busy": "2024-06-06T07:16:41.721494Z",
     "iopub.status.idle": "2024-06-06T07:16:41.733305Z",
     "shell.execute_reply": "2024-06-06T07:16:41.732225Z"
    },
    "papermill": {
     "duration": 0.022402,
     "end_time": "2024-06-06T07:16:41.735672",
     "exception": false,
     "start_time": "2024-06-06T07:16:41.713270",
     "status": "completed"
    },
    "tags": []
   },
   "outputs": [
    {
     "data": {
      "text/html": [
       "<div>\n",
       "<style scoped>\n",
       "    .dataframe tbody tr th:only-of-type {\n",
       "        vertical-align: middle;\n",
       "    }\n",
       "\n",
       "    .dataframe tbody tr th {\n",
       "        vertical-align: top;\n",
       "    }\n",
       "\n",
       "    .dataframe thead th {\n",
       "        text-align: right;\n",
       "    }\n",
       "</style>\n",
       "<table border=\"1\" class=\"dataframe\">\n",
       "  <thead>\n",
       "    <tr style=\"text-align: right;\">\n",
       "      <th></th>\n",
       "      <th>essay_id</th>\n",
       "      <th>full_text</th>\n",
       "    </tr>\n",
       "  </thead>\n",
       "  <tbody>\n",
       "    <tr>\n",
       "      <th>0</th>\n",
       "      <td>000d118</td>\n",
       "      <td>Many people have car where they live. The thin...</td>\n",
       "    </tr>\n",
       "    <tr>\n",
       "      <th>1</th>\n",
       "      <td>000fe60</td>\n",
       "      <td>I am a scientist at NASA that is discussing th...</td>\n",
       "    </tr>\n",
       "    <tr>\n",
       "      <th>2</th>\n",
       "      <td>001ab80</td>\n",
       "      <td>People always wish they had the same technolog...</td>\n",
       "    </tr>\n",
       "  </tbody>\n",
       "</table>\n",
       "</div>"
      ],
      "text/plain": [
       "  essay_id                                          full_text\n",
       "0  000d118  Many people have car where they live. The thin...\n",
       "1  000fe60  I am a scientist at NASA that is discussing th...\n",
       "2  001ab80  People always wish they had the same technolog..."
      ]
     },
     "execution_count": 6,
     "metadata": {},
     "output_type": "execute_result"
    }
   ],
   "source": [
    "df_test = files[2]\n",
    "df_test.head()"
   ]
  },
  {
   "cell_type": "code",
   "execution_count": 7,
   "id": "c1194ed2",
   "metadata": {
    "execution": {
     "iopub.execute_input": "2024-06-06T07:16:41.751526Z",
     "iopub.status.busy": "2024-06-06T07:16:41.751121Z",
     "iopub.status.idle": "2024-06-06T07:16:41.757634Z",
     "shell.execute_reply": "2024-06-06T07:16:41.756670Z"
    },
    "papermill": {
     "duration": 0.016596,
     "end_time": "2024-06-06T07:16:41.759763",
     "exception": false,
     "start_time": "2024-06-06T07:16:41.743167",
     "status": "completed"
    },
    "tags": []
   },
   "outputs": [
    {
     "data": {
      "text/plain": [
       "(3, 2)"
      ]
     },
     "execution_count": 7,
     "metadata": {},
     "output_type": "execute_result"
    }
   ],
   "source": [
    "df_test.shape"
   ]
  },
  {
   "cell_type": "code",
   "execution_count": 8,
   "id": "46bef66f",
   "metadata": {
    "execution": {
     "iopub.execute_input": "2024-06-06T07:16:41.775286Z",
     "iopub.status.busy": "2024-06-06T07:16:41.774899Z",
     "iopub.status.idle": "2024-06-06T07:16:41.780820Z",
     "shell.execute_reply": "2024-06-06T07:16:41.778950Z"
    },
    "papermill": {
     "duration": 0.016611,
     "end_time": "2024-06-06T07:16:41.783437",
     "exception": false,
     "start_time": "2024-06-06T07:16:41.766826",
     "status": "completed"
    },
    "tags": []
   },
   "outputs": [],
   "source": [
    "def removeHTML(text):\n",
    "    html = re.compile(r\"<.*?>\")\n",
    "    return html.sub(r\"\", text)"
   ]
  },
  {
   "cell_type": "code",
   "execution_count": 9,
   "id": "93cec1c0",
   "metadata": {
    "execution": {
     "iopub.execute_input": "2024-06-06T07:16:41.800532Z",
     "iopub.status.busy": "2024-06-06T07:16:41.800144Z",
     "iopub.status.idle": "2024-06-06T07:16:41.806771Z",
     "shell.execute_reply": "2024-06-06T07:16:41.805763Z"
    },
    "papermill": {
     "duration": 0.017281,
     "end_time": "2024-06-06T07:16:41.809140",
     "exception": false,
     "start_time": "2024-06-06T07:16:41.791859",
     "status": "completed"
    },
    "tags": []
   },
   "outputs": [],
   "source": [
    "def preprocessing(text):\n",
    "    text = text.lower()\n",
    "    text = removeHTML(text)\n",
    "    text = re.sub(\"@\\w+\", '', text)\n",
    "    text = re.sub(\"'\\d+|\\d+\", '', text)  # eliminar números\n",
    "    text = re.sub(\"http\\w+\", '', text)  # eliminar URL\n",
    "    text = re.sub(r\"\\.+\", \".\", text)  # reemplazar puntos consecutivos con un solo punto\n",
    "    text = re.sub(r\"\\,+\", \",\", text)  # reemplazar comas consecutivas con una sola coma\n",
    "    text = text.strip()  # eliminar espacios al principio y al final\n",
    "    return text"
   ]
  },
  {
   "cell_type": "code",
   "execution_count": 10,
   "id": "c644c31a",
   "metadata": {
    "execution": {
     "iopub.execute_input": "2024-06-06T07:16:41.825634Z",
     "iopub.status.busy": "2024-06-06T07:16:41.825222Z",
     "iopub.status.idle": "2024-06-06T07:16:44.823758Z",
     "shell.execute_reply": "2024-06-06T07:16:44.822317Z"
    },
    "papermill": {
     "duration": 3.010001,
     "end_time": "2024-06-06T07:16:44.826578",
     "exception": false,
     "start_time": "2024-06-06T07:16:41.816577",
     "status": "completed"
    },
    "tags": []
   },
   "outputs": [],
   "source": [
    "# Inicializar una lista vacía para almacenar el texto limpio\n",
    "clean_corpus = []\n",
    "\n",
    "# Iterar sobre cada texto en la columna 'full_text' del DataFrame train\n",
    "for i in df_train['full_text']:\n",
    "    # Aplicar la función de preprocesamiento de datos al texto\n",
    "    cleaned_text = preprocessing(i)\n",
    "    # Añadir el texto limpio a la lista clean_corpus\n",
    "    clean_corpus.append(cleaned_text)"
   ]
  },
  {
   "cell_type": "code",
   "execution_count": 11,
   "id": "b6c38a2b",
   "metadata": {
    "execution": {
     "iopub.execute_input": "2024-06-06T07:16:44.843888Z",
     "iopub.status.busy": "2024-06-06T07:16:44.843472Z",
     "iopub.status.idle": "2024-06-06T07:16:49.889395Z",
     "shell.execute_reply": "2024-06-06T07:16:49.887909Z"
    },
    "papermill": {
     "duration": 5.057416,
     "end_time": "2024-06-06T07:16:49.892461",
     "exception": false,
     "start_time": "2024-06-06T07:16:44.835045",
     "status": "completed"
    },
    "tags": []
   },
   "outputs": [
    {
     "data": {
      "text/plain": [
       "(17307, 63901)"
      ]
     },
     "execution_count": 11,
     "metadata": {},
     "output_type": "execute_result"
    }
   ],
   "source": [
    "vectorizer = TfidfVectorizer()\n",
    "X = vectorizer.fit_transform(clean_corpus)\n",
    "X.shape"
   ]
  },
  {
   "cell_type": "code",
   "execution_count": 12,
   "id": "40b94981",
   "metadata": {
    "execution": {
     "iopub.execute_input": "2024-06-06T07:16:49.909649Z",
     "iopub.status.busy": "2024-06-06T07:16:49.909255Z",
     "iopub.status.idle": "2024-06-06T07:16:49.916642Z",
     "shell.execute_reply": "2024-06-06T07:16:49.915478Z"
    },
    "papermill": {
     "duration": 0.018644,
     "end_time": "2024-06-06T07:16:49.918842",
     "exception": false,
     "start_time": "2024-06-06T07:16:49.900198",
     "status": "completed"
    },
    "tags": []
   },
   "outputs": [
    {
     "data": {
      "text/plain": [
       "(17307,)"
      ]
     },
     "execution_count": 12,
     "metadata": {},
     "output_type": "execute_result"
    }
   ],
   "source": [
    "y = df_train[\"score\"]\n",
    "y.shape"
   ]
  },
  {
   "cell_type": "code",
   "execution_count": 13,
   "id": "92bfbf58",
   "metadata": {
    "execution": {
     "iopub.execute_input": "2024-06-06T07:16:49.936268Z",
     "iopub.status.busy": "2024-06-06T07:16:49.935551Z",
     "iopub.status.idle": "2024-06-06T07:16:49.961330Z",
     "shell.execute_reply": "2024-06-06T07:16:49.960002Z"
    },
    "papermill": {
     "duration": 0.037266,
     "end_time": "2024-06-06T07:16:49.963730",
     "exception": false,
     "start_time": "2024-06-06T07:16:49.926464",
     "status": "completed"
    },
    "tags": []
   },
   "outputs": [
    {
     "data": {
      "text/plain": [
       "((13845, 63901), (13845,), (3462, 63901), (3462,))"
      ]
     },
     "execution_count": 13,
     "metadata": {},
     "output_type": "execute_result"
    }
   ],
   "source": [
    "X_train, X_test, y_train, y_test = train_test_split(X, y, test_size = 0.2)\n",
    "X_train.shape, y_train.shape, X_test.shape, y_test.shape"
   ]
  },
  {
   "cell_type": "markdown",
   "id": "75b1a8cb",
   "metadata": {
    "papermill": {
     "duration": 0.007051,
     "end_time": "2024-06-06T07:16:49.978169",
     "exception": false,
     "start_time": "2024-06-06T07:16:49.971118",
     "status": "completed"
    },
    "tags": []
   },
   "source": [
    "Model"
   ]
  },
  {
   "cell_type": "code",
   "execution_count": 14,
   "id": "329296f0",
   "metadata": {
    "execution": {
     "iopub.execute_input": "2024-06-06T07:16:49.996592Z",
     "iopub.status.busy": "2024-06-06T07:16:49.995610Z",
     "iopub.status.idle": "2024-06-06T07:17:27.621142Z",
     "shell.execute_reply": "2024-06-06T07:17:27.619638Z"
    },
    "papermill": {
     "duration": 37.656785,
     "end_time": "2024-06-06T07:17:27.642861",
     "exception": false,
     "start_time": "2024-06-06T07:16:49.986076",
     "status": "completed"
    },
    "tags": []
   },
   "outputs": [
    {
     "data": {
      "text/html": [
       "<style>#sk-container-id-1 {color: black;background-color: white;}#sk-container-id-1 pre{padding: 0;}#sk-container-id-1 div.sk-toggleable {background-color: white;}#sk-container-id-1 label.sk-toggleable__label {cursor: pointer;display: block;width: 100%;margin-bottom: 0;padding: 0.3em;box-sizing: border-box;text-align: center;}#sk-container-id-1 label.sk-toggleable__label-arrow:before {content: \"▸\";float: left;margin-right: 0.25em;color: #696969;}#sk-container-id-1 label.sk-toggleable__label-arrow:hover:before {color: black;}#sk-container-id-1 div.sk-estimator:hover label.sk-toggleable__label-arrow:before {color: black;}#sk-container-id-1 div.sk-toggleable__content {max-height: 0;max-width: 0;overflow: hidden;text-align: left;background-color: #f0f8ff;}#sk-container-id-1 div.sk-toggleable__content pre {margin: 0.2em;color: black;border-radius: 0.25em;background-color: #f0f8ff;}#sk-container-id-1 input.sk-toggleable__control:checked~div.sk-toggleable__content {max-height: 200px;max-width: 100%;overflow: auto;}#sk-container-id-1 input.sk-toggleable__control:checked~label.sk-toggleable__label-arrow:before {content: \"▾\";}#sk-container-id-1 div.sk-estimator input.sk-toggleable__control:checked~label.sk-toggleable__label {background-color: #d4ebff;}#sk-container-id-1 div.sk-label input.sk-toggleable__control:checked~label.sk-toggleable__label {background-color: #d4ebff;}#sk-container-id-1 input.sk-hidden--visually {border: 0;clip: rect(1px 1px 1px 1px);clip: rect(1px, 1px, 1px, 1px);height: 1px;margin: -1px;overflow: hidden;padding: 0;position: absolute;width: 1px;}#sk-container-id-1 div.sk-estimator {font-family: monospace;background-color: #f0f8ff;border: 1px dotted black;border-radius: 0.25em;box-sizing: border-box;margin-bottom: 0.5em;}#sk-container-id-1 div.sk-estimator:hover {background-color: #d4ebff;}#sk-container-id-1 div.sk-parallel-item::after {content: \"\";width: 100%;border-bottom: 1px solid gray;flex-grow: 1;}#sk-container-id-1 div.sk-label:hover label.sk-toggleable__label {background-color: #d4ebff;}#sk-container-id-1 div.sk-serial::before {content: \"\";position: absolute;border-left: 1px solid gray;box-sizing: border-box;top: 0;bottom: 0;left: 50%;z-index: 0;}#sk-container-id-1 div.sk-serial {display: flex;flex-direction: column;align-items: center;background-color: white;padding-right: 0.2em;padding-left: 0.2em;position: relative;}#sk-container-id-1 div.sk-item {position: relative;z-index: 1;}#sk-container-id-1 div.sk-parallel {display: flex;align-items: stretch;justify-content: center;background-color: white;position: relative;}#sk-container-id-1 div.sk-item::before, #sk-container-id-1 div.sk-parallel-item::before {content: \"\";position: absolute;border-left: 1px solid gray;box-sizing: border-box;top: 0;bottom: 0;left: 50%;z-index: -1;}#sk-container-id-1 div.sk-parallel-item {display: flex;flex-direction: column;z-index: 1;position: relative;background-color: white;}#sk-container-id-1 div.sk-parallel-item:first-child::after {align-self: flex-end;width: 50%;}#sk-container-id-1 div.sk-parallel-item:last-child::after {align-self: flex-start;width: 50%;}#sk-container-id-1 div.sk-parallel-item:only-child::after {width: 0;}#sk-container-id-1 div.sk-dashed-wrapped {border: 1px dashed gray;margin: 0 0.4em 0.5em 0.4em;box-sizing: border-box;padding-bottom: 0.4em;background-color: white;}#sk-container-id-1 div.sk-label label {font-family: monospace;font-weight: bold;display: inline-block;line-height: 1.2em;}#sk-container-id-1 div.sk-label-container {text-align: center;}#sk-container-id-1 div.sk-container {/* jupyter's `normalize.less` sets `[hidden] { display: none; }` but bootstrap.min.css set `[hidden] { display: none !important; }` so we also need the `!important` here to be able to override the default hidden behavior on the sphinx rendered scikit-learn.org. See: https://github.com/scikit-learn/scikit-learn/issues/21755 */display: inline-block !important;position: relative;}#sk-container-id-1 div.sk-text-repr-fallback {display: none;}</style><div id=\"sk-container-id-1\" class=\"sk-top-container\"><div class=\"sk-text-repr-fallback\"><pre>LogisticRegression(max_iter=600)</pre><b>In a Jupyter environment, please rerun this cell to show the HTML representation or trust the notebook. <br />On GitHub, the HTML representation is unable to render, please try loading this page with nbviewer.org.</b></div><div class=\"sk-container\" hidden><div class=\"sk-item\"><div class=\"sk-estimator sk-toggleable\"><input class=\"sk-toggleable__control sk-hidden--visually\" id=\"sk-estimator-id-1\" type=\"checkbox\" checked><label for=\"sk-estimator-id-1\" class=\"sk-toggleable__label sk-toggleable__label-arrow\">LogisticRegression</label><div class=\"sk-toggleable__content\"><pre>LogisticRegression(max_iter=600)</pre></div></div></div></div></div>"
      ],
      "text/plain": [
       "LogisticRegression(max_iter=600)"
      ]
     },
     "execution_count": 14,
     "metadata": {},
     "output_type": "execute_result"
    }
   ],
   "source": [
    "model = LogisticRegression(max_iter = 600)\n",
    "model.fit(X_train, y_train)"
   ]
  },
  {
   "cell_type": "code",
   "execution_count": 15,
   "id": "4bd46454",
   "metadata": {
    "execution": {
     "iopub.execute_input": "2024-06-06T07:17:27.686065Z",
     "iopub.status.busy": "2024-06-06T07:17:27.685502Z",
     "iopub.status.idle": "2024-06-06T07:17:27.702634Z",
     "shell.execute_reply": "2024-06-06T07:17:27.701451Z"
    },
    "papermill": {
     "duration": 0.035064,
     "end_time": "2024-06-06T07:17:27.705547",
     "exception": false,
     "start_time": "2024-06-06T07:17:27.670483",
     "status": "completed"
    },
    "tags": []
   },
   "outputs": [
    {
     "data": {
      "text/plain": [
       "array([2, 3, 5, ..., 3, 2, 3])"
      ]
     },
     "execution_count": 15,
     "metadata": {},
     "output_type": "execute_result"
    }
   ],
   "source": [
    "preds = model.predict(X_test)\n",
    "preds"
   ]
  },
  {
   "cell_type": "code",
   "execution_count": 16,
   "id": "7ba8f492",
   "metadata": {
    "execution": {
     "iopub.execute_input": "2024-06-06T07:17:27.723598Z",
     "iopub.status.busy": "2024-06-06T07:17:27.722576Z",
     "iopub.status.idle": "2024-06-06T07:17:27.729559Z",
     "shell.execute_reply": "2024-06-06T07:17:27.728490Z"
    },
    "papermill": {
     "duration": 0.018229,
     "end_time": "2024-06-06T07:17:27.731859",
     "exception": false,
     "start_time": "2024-06-06T07:17:27.713630",
     "status": "completed"
    },
    "tags": []
   },
   "outputs": [
    {
     "data": {
      "text/plain": [
       "(3462,)"
      ]
     },
     "execution_count": 16,
     "metadata": {},
     "output_type": "execute_result"
    }
   ],
   "source": [
    "preds.shape"
   ]
  },
  {
   "cell_type": "markdown",
   "id": "e62c8417",
   "metadata": {
    "papermill": {
     "duration": 0.007478,
     "end_time": "2024-06-06T07:17:27.747244",
     "exception": false,
     "start_time": "2024-06-06T07:17:27.739766",
     "status": "completed"
    },
    "tags": []
   },
   "source": [
    "Score"
   ]
  },
  {
   "cell_type": "code",
   "execution_count": 17,
   "id": "41c03682",
   "metadata": {
    "execution": {
     "iopub.execute_input": "2024-06-06T07:17:27.764318Z",
     "iopub.status.busy": "2024-06-06T07:17:27.763931Z",
     "iopub.status.idle": "2024-06-06T07:17:27.775344Z",
     "shell.execute_reply": "2024-06-06T07:17:27.774286Z"
    },
    "papermill": {
     "duration": 0.022988,
     "end_time": "2024-06-06T07:17:27.777855",
     "exception": false,
     "start_time": "2024-06-06T07:17:27.754867",
     "status": "completed"
    },
    "tags": []
   },
   "outputs": [
    {
     "data": {
      "text/plain": [
       "0.3169576389746147"
      ]
     },
     "execution_count": 17,
     "metadata": {},
     "output_type": "execute_result"
    }
   ],
   "source": [
    "score = cohen_kappa_score(y_test, preds)\n",
    "score"
   ]
  },
  {
   "cell_type": "code",
   "execution_count": 18,
   "id": "4b331571",
   "metadata": {
    "execution": {
     "iopub.execute_input": "2024-06-06T07:17:27.795841Z",
     "iopub.status.busy": "2024-06-06T07:17:27.795094Z",
     "iopub.status.idle": "2024-06-06T07:17:27.805332Z",
     "shell.execute_reply": "2024-06-06T07:17:27.804353Z"
    },
    "papermill": {
     "duration": 0.021305,
     "end_time": "2024-06-06T07:17:27.807475",
     "exception": false,
     "start_time": "2024-06-06T07:17:27.786170",
     "status": "completed"
    },
    "tags": []
   },
   "outputs": [
    {
     "data": {
      "text/plain": [
       "(3, 63901)"
      ]
     },
     "execution_count": 18,
     "metadata": {},
     "output_type": "execute_result"
    }
   ],
   "source": [
    "Xt = vectorizer.transform(df_test[\"full_text\"])\n",
    "Xt.shape"
   ]
  },
  {
   "cell_type": "code",
   "execution_count": 19,
   "id": "ceea12b6",
   "metadata": {
    "execution": {
     "iopub.execute_input": "2024-06-06T07:17:27.825607Z",
     "iopub.status.busy": "2024-06-06T07:17:27.825202Z",
     "iopub.status.idle": "2024-06-06T07:17:27.832639Z",
     "shell.execute_reply": "2024-06-06T07:17:27.831620Z"
    },
    "papermill": {
     "duration": 0.019001,
     "end_time": "2024-06-06T07:17:27.834925",
     "exception": false,
     "start_time": "2024-06-06T07:17:27.815924",
     "status": "completed"
    },
    "tags": []
   },
   "outputs": [
    {
     "data": {
      "text/plain": [
       "array([3, 3, 4])"
      ]
     },
     "execution_count": 19,
     "metadata": {},
     "output_type": "execute_result"
    }
   ],
   "source": [
    "preds2 = model.predict(Xt)\n",
    "preds2"
   ]
  },
  {
   "cell_type": "code",
   "execution_count": 20,
   "id": "841d24c5",
   "metadata": {
    "execution": {
     "iopub.execute_input": "2024-06-06T07:17:27.853175Z",
     "iopub.status.busy": "2024-06-06T07:17:27.852778Z",
     "iopub.status.idle": "2024-06-06T07:17:27.863281Z",
     "shell.execute_reply": "2024-06-06T07:17:27.861998Z"
    },
    "papermill": {
     "duration": 0.02225,
     "end_time": "2024-06-06T07:17:27.865531",
     "exception": false,
     "start_time": "2024-06-06T07:17:27.843281",
     "status": "completed"
    },
    "tags": []
   },
   "outputs": [
    {
     "data": {
      "text/html": [
       "<div>\n",
       "<style scoped>\n",
       "    .dataframe tbody tr th:only-of-type {\n",
       "        vertical-align: middle;\n",
       "    }\n",
       "\n",
       "    .dataframe tbody tr th {\n",
       "        vertical-align: top;\n",
       "    }\n",
       "\n",
       "    .dataframe thead th {\n",
       "        text-align: right;\n",
       "    }\n",
       "</style>\n",
       "<table border=\"1\" class=\"dataframe\">\n",
       "  <thead>\n",
       "    <tr style=\"text-align: right;\">\n",
       "      <th></th>\n",
       "      <th>score</th>\n",
       "    </tr>\n",
       "  </thead>\n",
       "  <tbody>\n",
       "    <tr>\n",
       "      <th>0</th>\n",
       "      <td>3</td>\n",
       "    </tr>\n",
       "    <tr>\n",
       "      <th>1</th>\n",
       "      <td>3</td>\n",
       "    </tr>\n",
       "    <tr>\n",
       "      <th>2</th>\n",
       "      <td>4</td>\n",
       "    </tr>\n",
       "  </tbody>\n",
       "</table>\n",
       "</div>"
      ],
      "text/plain": [
       "   score\n",
       "0      3\n",
       "1      3\n",
       "2      4"
      ]
     },
     "execution_count": 20,
     "metadata": {},
     "output_type": "execute_result"
    }
   ],
   "source": [
    "predictions_df = pd.DataFrame(preds2, columns = [\"score\"])\n",
    "predictions_df"
   ]
  },
  {
   "cell_type": "markdown",
   "id": "4b75b1cb",
   "metadata": {
    "papermill": {
     "duration": 0.007758,
     "end_time": "2024-06-06T07:17:27.881642",
     "exception": false,
     "start_time": "2024-06-06T07:17:27.873884",
     "status": "completed"
    },
    "tags": []
   },
   "source": [
    "Submission"
   ]
  },
  {
   "cell_type": "code",
   "execution_count": 21,
   "id": "da37a6c9",
   "metadata": {
    "execution": {
     "iopub.execute_input": "2024-06-06T07:17:27.900753Z",
     "iopub.status.busy": "2024-06-06T07:17:27.900331Z",
     "iopub.status.idle": "2024-06-06T07:17:27.911039Z",
     "shell.execute_reply": "2024-06-06T07:17:27.909841Z"
    },
    "papermill": {
     "duration": 0.024431,
     "end_time": "2024-06-06T07:17:27.914396",
     "exception": false,
     "start_time": "2024-06-06T07:17:27.889965",
     "status": "completed"
    },
    "tags": []
   },
   "outputs": [],
   "source": [
    "predictions_df_f = pd.concat([files[0].iloc[:, 0], predictions_df], axis=1)\n",
    "predictions_df_f.to_csv('submission.csv', index=False)"
   ]
  },
  {
   "cell_type": "code",
   "execution_count": 22,
   "id": "f279132a",
   "metadata": {
    "execution": {
     "iopub.execute_input": "2024-06-06T07:17:27.934213Z",
     "iopub.status.busy": "2024-06-06T07:17:27.933828Z",
     "iopub.status.idle": "2024-06-06T07:17:27.947419Z",
     "shell.execute_reply": "2024-06-06T07:17:27.946043Z"
    },
    "papermill": {
     "duration": 0.025996,
     "end_time": "2024-06-06T07:17:27.950007",
     "exception": false,
     "start_time": "2024-06-06T07:17:27.924011",
     "status": "completed"
    },
    "tags": []
   },
   "outputs": [
    {
     "data": {
      "text/html": [
       "<div>\n",
       "<style scoped>\n",
       "    .dataframe tbody tr th:only-of-type {\n",
       "        vertical-align: middle;\n",
       "    }\n",
       "\n",
       "    .dataframe tbody tr th {\n",
       "        vertical-align: top;\n",
       "    }\n",
       "\n",
       "    .dataframe thead th {\n",
       "        text-align: right;\n",
       "    }\n",
       "</style>\n",
       "<table border=\"1\" class=\"dataframe\">\n",
       "  <thead>\n",
       "    <tr style=\"text-align: right;\">\n",
       "      <th></th>\n",
       "      <th>essay_id</th>\n",
       "      <th>score</th>\n",
       "    </tr>\n",
       "  </thead>\n",
       "  <tbody>\n",
       "    <tr>\n",
       "      <th>0</th>\n",
       "      <td>000d118</td>\n",
       "      <td>3</td>\n",
       "    </tr>\n",
       "    <tr>\n",
       "      <th>1</th>\n",
       "      <td>000fe60</td>\n",
       "      <td>3</td>\n",
       "    </tr>\n",
       "    <tr>\n",
       "      <th>2</th>\n",
       "      <td>001ab80</td>\n",
       "      <td>4</td>\n",
       "    </tr>\n",
       "  </tbody>\n",
       "</table>\n",
       "</div>"
      ],
      "text/plain": [
       "  essay_id  score\n",
       "0  000d118      3\n",
       "1  000fe60      3\n",
       "2  001ab80      4"
      ]
     },
     "execution_count": 22,
     "metadata": {},
     "output_type": "execute_result"
    }
   ],
   "source": [
    "sub = pd.read_csv(\"submission.csv\")\n",
    "sub.head()"
   ]
  }
 ],
 "metadata": {
  "kaggle": {
   "accelerator": "none",
   "dataSources": [
    {
     "databundleVersionId": 8059942,
     "sourceId": 71485,
     "sourceType": "competition"
    }
   ],
   "dockerImageVersionId": 30698,
   "isGpuEnabled": false,
   "isInternetEnabled": false,
   "language": "python",
   "sourceType": "notebook"
  },
  "kernelspec": {
   "display_name": "Python 3",
   "language": "python",
   "name": "python3"
  },
  "language_info": {
   "codemirror_mode": {
    "name": "ipython",
    "version": 3
   },
   "file_extension": ".py",
   "mimetype": "text/x-python",
   "name": "python",
   "nbconvert_exporter": "python",
   "pygments_lexer": "ipython3",
   "version": "3.10.13"
  },
  "papermill": {
   "default_parameters": {},
   "duration": 54.4955,
   "end_time": "2024-06-06T07:17:28.681844",
   "environment_variables": {},
   "exception": null,
   "input_path": "__notebook__.ipynb",
   "output_path": "__notebook__.ipynb",
   "parameters": {},
   "start_time": "2024-06-06T07:16:34.186344",
   "version": "2.5.0"
  }
 },
 "nbformat": 4,
 "nbformat_minor": 5
}
